{
  "nbformat": 4,
  "nbformat_minor": 0,
  "metadata": {
    "colab": {
      "provenance": [],
      "authorship_tag": "ABX9TyODOBcw5y6kGOP8xSkoPQ69",
      "include_colab_link": true
    },
    "kernelspec": {
      "name": "python3",
      "display_name": "Python 3"
    },
    "language_info": {
      "name": "python"
    }
  },
  "cells": [
    {
      "cell_type": "markdown",
      "metadata": {
        "id": "view-in-github",
        "colab_type": "text"
      },
      "source": [
        "<a href=\"https://colab.research.google.com/github/hibameo/python_Copy_past/blob/main/python_Copy_past.ipynb\" target=\"_parent\"><img src=\"https://colab.research.google.com/assets/colab-badge.svg\" alt=\"Open In Colab\"/></a>"
      ]
    },
    {
      "cell_type": "code",
      "execution_count": 1,
      "metadata": {
        "colab": {
          "base_uri": "https://localhost:8080/"
        },
        "id": "VdHfAzyRksYH",
        "outputId": "addeeda0-cae1-4705-8628-b2704da84b3c"
      },
      "outputs": [
        {
          "output_type": "stream",
          "name": "stdout",
          "text": [
            "Reading package lists... Done\n",
            "Building dependency tree... Done\n",
            "Reading state information... Done\n",
            "The following NEW packages will be installed:\n",
            "  xclip\n",
            "0 upgraded, 1 newly installed, 0 to remove and 21 not upgraded.\n",
            "Need to get 18.3 kB of archives.\n",
            "After this operation, 60.4 kB of additional disk space will be used.\n",
            "Get:1 http://archive.ubuntu.com/ubuntu jammy/universe amd64 xclip amd64 0.13-2 [18.3 kB]\n",
            "Fetched 18.3 kB in 0s (46.1 kB/s)\n",
            "debconf: unable to initialize frontend: Dialog\n",
            "debconf: (No usable dialog-like program is installed, so the dialog based frontend cannot be used. at /usr/share/perl5/Debconf/FrontEnd/Dialog.pm line 78, <> line 1.)\n",
            "debconf: falling back to frontend: Readline\n",
            "debconf: unable to initialize frontend: Readline\n",
            "debconf: (This frontend requires a controlling tty.)\n",
            "debconf: falling back to frontend: Teletype\n",
            "dpkg-preconfigure: unable to re-open stdin: \n",
            "Selecting previously unselected package xclip.\n",
            "(Reading database ... 124926 files and directories currently installed.)\n",
            "Preparing to unpack .../xclip_0.13-2_amd64.deb ...\n",
            "Unpacking xclip (0.13-2) ...\n",
            "Setting up xclip (0.13-2) ...\n",
            "Processing triggers for man-db (2.10.2-1) ...\n"
          ]
        }
      ],
      "source": [
        "\n",
        "!sudo apt-get install xclip"
      ]
    },
    {
      "cell_type": "code",
      "source": [
        "!sudo apt-get install xsel"
      ],
      "metadata": {
        "colab": {
          "base_uri": "https://localhost:8080/"
        },
        "id": "i122wniVkwdG",
        "outputId": "5034f175-bbf2-403e-8c57-e0cfce11f495"
      },
      "execution_count": 2,
      "outputs": [
        {
          "output_type": "stream",
          "name": "stdout",
          "text": [
            "Reading package lists... Done\n",
            "Building dependency tree... Done\n",
            "Reading state information... Done\n",
            "The following NEW packages will be installed:\n",
            "  xsel\n",
            "0 upgraded, 1 newly installed, 0 to remove and 21 not upgraded.\n",
            "Need to get 20.5 kB of archives.\n",
            "After this operation, 60.4 kB of additional disk space will be used.\n",
            "Get:1 http://archive.ubuntu.com/ubuntu jammy/universe amd64 xsel amd64 1.2.0+git9bfc13d.20180109-3 [20.5 kB]\n",
            "Fetched 20.5 kB in 0s (68.3 kB/s)\n",
            "debconf: unable to initialize frontend: Dialog\n",
            "debconf: (No usable dialog-like program is installed, so the dialog based frontend cannot be used. at /usr/share/perl5/Debconf/FrontEnd/Dialog.pm line 78, <> line 1.)\n",
            "debconf: falling back to frontend: Readline\n",
            "debconf: unable to initialize frontend: Readline\n",
            "debconf: (This frontend requires a controlling tty.)\n",
            "debconf: falling back to frontend: Teletype\n",
            "dpkg-preconfigure: unable to re-open stdin: \n",
            "Selecting previously unselected package xsel.\n",
            "(Reading database ... 124938 files and directories currently installed.)\n",
            "Preparing to unpack .../xsel_1.2.0+git9bfc13d.20180109-3_amd64.deb ...\n",
            "Unpacking xsel (1.2.0+git9bfc13d.20180109-3) ...\n",
            "Setting up xsel (1.2.0+git9bfc13d.20180109-3) ...\n",
            "Processing triggers for man-db (2.10.2-1) ...\n"
          ]
        }
      ]
    },
    {
      "cell_type": "code",
      "source": [
        "from IPython.display import display, HTML\n",
        "from google.colab import output\n",
        "\n",
        "text1 = input(\"Enter a text: \")\n",
        "\n",
        "# Create a button that will copy the text to the clipboard when clicked\n",
        "def copy_to_clipboard(text):\n",
        "  display(HTML(f\"\"\"\n",
        "\n",
        "  \"\"\"))\n",
        "\n",
        "# Display the button\n",
        "copy_to_clipboard(text1)"
      ],
      "metadata": {
        "colab": {
          "base_uri": "https://localhost:8080/",
          "height": 34
        },
        "id": "AeHfzztQk1bl",
        "outputId": "7e87c13f-d129-4418-fe1c-c55f783b8302"
      },
      "execution_count": 3,
      "outputs": [
        {
          "name": "stdout",
          "output_type": "stream",
          "text": [
            "Enter a text: hello hiba zaheer \n"
          ]
        },
        {
          "output_type": "display_data",
          "data": {
            "text/plain": [
              "<IPython.core.display.HTML object>"
            ],
            "text/html": [
              "\n",
              "    \n",
              "  "
            ]
          },
          "metadata": {}
        }
      ]
    }
  ]
}